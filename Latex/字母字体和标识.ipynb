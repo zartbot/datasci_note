{
 "cells": [
  {
   "cell_type": "code",
   "execution_count": 1,
   "metadata": {},
   "outputs": [
    {
     "data": {
      "text/html": [
       "<style>.container { width:100% !important; }</style>"
      ],
      "text/plain": [
       "<IPython.core.display.HTML object>"
      ]
     },
     "metadata": {},
     "output_type": "display_data"
    }
   ],
   "source": [
    "from IPython.display import Latex\n",
    "from IPython.core.display import display, HTML\n",
    "display(HTML(\"<style>.container { width:100% !important; }</style>\"))\n",
    "%matplotlib inline\n",
    "import matplotlib\n",
    "import matplotlib.pyplot as plt\n",
    "import matplotlib.style as style\n",
    "import matplotlib.gridspec as gridspec"
   ]
  },
  {
   "cell_type": "markdown",
   "metadata": {},
   "source": [
    "## 希腊字母表"
   ]
  },
  {
   "cell_type": "code",
   "execution_count": 2,
   "metadata": {},
   "outputs": [],
   "source": [
    "#problems in Jupyter, couldbe replaced by \n",
    "#\\Alpha = A\n",
    "#\\Beta = B\n",
    "#\\Epsilon = E\n",
    "#\\Zeta = Z\n",
    "#\\Eta = H\n",
    "#\\Iota = I\n",
    "#\\Kappa = K\n",
    "#\\Mu = M\n",
    "#\\Nu = N\n",
    "#\\Omicron = O\n",
    "#\\Rho = P\n",
    "#\\Tau = T\n",
    "#\\Chi = X"
   ]
  },
  {
   "cell_type": "code",
   "execution_count": 3,
   "metadata": {},
   "outputs": [
    {
     "data": {
      "text/latex": [
       "$A\\alpha | B\\beta | \\Gamma\\gamma | E\\epsilon\\varepsilon | Z\\zeta | H\\eta | \\Theta\\theta$"
      ],
      "text/plain": [
       "<IPython.core.display.Latex object>"
      ]
     },
     "execution_count": 3,
     "metadata": {},
     "output_type": "execute_result"
    }
   ],
   "source": [
    "Latex(r\"$A\\alpha | B\\beta | \\Gamma\\gamma | E\\epsilon\\varepsilon | Z\\zeta | H\\eta | \\Theta\\theta$\")"
   ]
  },
  {
   "cell_type": "code",
   "execution_count": 4,
   "metadata": {},
   "outputs": [
    {
     "data": {
      "text/latex": [
       "$I \\iota | K \\kappa\\varkappa | \\Lambda\\lambda | M \\mu | N \\nu | \\Xi\\xi | O \\omicron | \\Pi\\pi\\varpi$"
      ],
      "text/plain": [
       "<IPython.core.display.Latex object>"
      ]
     },
     "execution_count": 4,
     "metadata": {},
     "output_type": "execute_result"
    }
   ],
   "source": [
    "Latex(r\"$I \\iota | K \\kappa\\varkappa | \\Lambda\\lambda | M \\mu | N \\nu | \\Xi\\xi | O \\omicron | \\Pi\\pi\\varpi$\")"
   ]
  },
  {
   "cell_type": "code",
   "execution_count": 5,
   "metadata": {},
   "outputs": [
    {
     "data": {
      "text/latex": [
       "$P\\rho\\varrho | \\Sigma\\sigma\\varsigma | \\tau | \\Upsilon\\upsilon | \\Phi\\phi\\varphi | X\\chi  | \\Psi\\psi | \\Omega\\omega$"
      ],
      "text/plain": [
       "<IPython.core.display.Latex object>"
      ]
     },
     "execution_count": 5,
     "metadata": {},
     "output_type": "execute_result"
    }
   ],
   "source": [
    "Latex(r\"$P\\rho\\varrho | \\Sigma\\sigma\\varsigma | \\tau | \\Upsilon\\upsilon | \\Phi\\phi\\varphi | X\\chi  | \\Psi\\psi | \\Omega\\omega$\")"
   ]
  },
  {
   "cell_type": "markdown",
   "metadata": {},
   "source": [
    "## 字体及其它符号"
   ]
  },
  {
   "cell_type": "code",
   "execution_count": 6,
   "metadata": {},
   "outputs": [
    {
     "data": {
      "text/latex": [
       "$\\mathbb{N,Z,Q,A,R,C,H,O}$"
      ],
      "text/plain": [
       "<IPython.core.display.Latex object>"
      ]
     },
     "execution_count": 6,
     "metadata": {},
     "output_type": "execute_result"
    }
   ],
   "source": [
    "#blackboard bold用于集合表示\n",
    "Latex(r\"$\\mathbb{N,Z,Q,A,R,C,H,O}$\")"
   ]
  },
  {
   "cell_type": "code",
   "execution_count": 7,
   "metadata": {},
   "outputs": [
    {
     "data": {
      "text/latex": [
       "$\\aleph | \\beth | \\gimel | \\daleth $"
      ],
      "text/plain": [
       "<IPython.core.display.Latex object>"
      ]
     },
     "execution_count": 7,
     "metadata": {},
     "output_type": "execute_result"
    }
   ],
   "source": [
    "#希伯来语字符\n",
    "Latex(r\"$\\aleph | \\beth | \\gimel | \\daleth $\")"
   ]
  },
  {
   "cell_type": "code",
   "execution_count": 8,
   "metadata": {},
   "outputs": [
    {
     "data": {
      "text/latex": [
       "${\\mathbf{D}_n,\\mathbf{U}(n),\\mathbf{SO}(3)}$"
      ],
      "text/plain": [
       "<IPython.core.display.Latex object>"
      ]
     },
     "execution_count": 8,
     "metadata": {},
     "output_type": "execute_result"
    }
   ],
   "source": [
    "Latex(r\"${\\mathbf{D}_n,\\mathbf{U}(n),\\mathbf{SO}(3)}$\")"
   ]
  },
  {
   "cell_type": "code",
   "execution_count": 9,
   "metadata": {},
   "outputs": [
    {
     "data": {
      "text/latex": [
       "$\\mathcal{F,L,Z}$"
      ],
      "text/plain": [
       "<IPython.core.display.Latex object>"
      ]
     },
     "execution_count": 9,
     "metadata": {},
     "output_type": "execute_result"
    }
   ],
   "source": [
    "#手写体\n",
    "Latex(r\"$\\mathcal{F,L,Z}$\")"
   ]
  },
  {
   "cell_type": "code",
   "execution_count": 10,
   "metadata": {},
   "outputs": [
    {
     "data": {
      "text/latex": [
       "$\\mathfrak{abcdefghijklmnopqrstuvwxyz}$"
      ],
      "text/plain": [
       "<IPython.core.display.Latex object>"
      ]
     },
     "execution_count": 10,
     "metadata": {},
     "output_type": "execute_result"
    }
   ],
   "source": [
    "#哥特体\n",
    "Latex(r\"$\\mathfrak{abcdefghijklmnopqrstuvwxyz}$\")"
   ]
  },
  {
   "cell_type": "code",
   "execution_count": 11,
   "metadata": {},
   "outputs": [
    {
     "data": {
      "text/latex": [
       "$\\mathfrak{ABCDEFGHIJKLMNOPQRSTUVWXYZ}$"
      ],
      "text/plain": [
       "<IPython.core.display.Latex object>"
      ]
     },
     "execution_count": 11,
     "metadata": {},
     "output_type": "execute_result"
    }
   ],
   "source": [
    "Latex(r\"$\\mathfrak{ABCDEFGHIJKLMNOPQRSTUVWXYZ}$\")"
   ]
  },
  {
   "cell_type": "markdown",
   "metadata": {},
   "source": [
    "## 标记"
   ]
  },
  {
   "cell_type": "code",
   "execution_count": 12,
   "metadata": {},
   "outputs": [
    {
     "data": {
      "text/latex": [
       "$\\leftarrow \\rightarrow \\Leftarrow \\Rightarrow \\uparrow \\downarrow$"
      ],
      "text/plain": [
       "<IPython.core.display.Latex object>"
      ]
     },
     "execution_count": 12,
     "metadata": {},
     "output_type": "execute_result"
    }
   ],
   "source": [
    "Latex(r\"$\\leftarrow \\rightarrow \\Leftarrow \\Rightarrow \\uparrow \\downarrow$\")"
   ]
  },
  {
   "cell_type": "code",
   "execution_count": 25,
   "metadata": {},
   "outputs": [
    {
     "data": {
      "text/latex": [
       "$\\nearrow \\searrow \\swarrow \\nwarrow \\leadsto$"
      ],
      "text/plain": [
       "<IPython.core.display.Latex object>"
      ]
     },
     "execution_count": 25,
     "metadata": {},
     "output_type": "execute_result"
    }
   ],
   "source": [
    "Latex(r\"$\\nearrow \\searrow \\swarrow \\nwarrow \\leadsto$\")\n"
   ]
  },
  {
   "cell_type": "code",
   "execution_count": 14,
   "metadata": {},
   "outputs": [
    {
     "data": {
      "text/latex": [
       "$ \\iff \\rightleftharpoons$"
      ],
      "text/plain": [
       "<IPython.core.display.Latex object>"
      ]
     },
     "execution_count": 14,
     "metadata": {},
     "output_type": "execute_result"
    }
   ],
   "source": [
    "Latex(r\"$ \\iff \\rightleftharpoons$\")\n"
   ]
  },
  {
   "cell_type": "code",
   "execution_count": null,
   "metadata": {},
   "outputs": [],
   "source": []
  },
  {
   "cell_type": "code",
   "execution_count": null,
   "metadata": {},
   "outputs": [],
   "source": []
  },
  {
   "cell_type": "code",
   "execution_count": null,
   "metadata": {},
   "outputs": [],
   "source": []
  },
  {
   "cell_type": "code",
   "execution_count": 15,
   "metadata": {},
   "outputs": [
    {
     "data": {
      "text/latex": [
       "$\\sum_{i=1}^n(X_i-\\bar{X})^2 ,  \\prod_{i=1}^n $"
      ],
      "text/plain": [
       "<IPython.core.display.Latex object>"
      ]
     },
     "execution_count": 15,
     "metadata": {},
     "output_type": "execute_result"
    }
   ],
   "source": [
    "#求和\n",
    "Latex(r\"$\\sum_{i=1}^n(X_i-\\bar{X})^2 ,  \\prod_{i=1}^n $\")"
   ]
  },
  {
   "cell_type": "code",
   "execution_count": 16,
   "metadata": {},
   "outputs": [
    {
     "data": {
      "text/latex": [
       "$\\lim_{x\\to \\infty^+} x^2$"
      ],
      "text/plain": [
       "<IPython.core.display.Latex object>"
      ]
     },
     "execution_count": 16,
     "metadata": {},
     "output_type": "execute_result"
    }
   ],
   "source": [
    "#极限\n",
    "Latex(r\"$\\lim_{x\\to \\infty^+} x^2$\")"
   ]
  },
  {
   "cell_type": "markdown",
   "metadata": {},
   "source": [
    " $ c = \\sqrt{a^{2}+b_{xy}^{2}+e^{x}} $"
   ]
  },
  {
   "cell_type": "code",
   "execution_count": 17,
   "metadata": {},
   "outputs": [
    {
     "data": {
      "text/latex": [
       "$  $"
      ],
      "text/plain": [
       "<IPython.core.display.Latex object>"
      ]
     },
     "execution_count": 17,
     "metadata": {},
     "output_type": "execute_result"
    }
   ],
   "source": [
    "Latex(r\"$  $\")"
   ]
  },
  {
   "cell_type": "code",
   "execution_count": 18,
   "metadata": {},
   "outputs": [
    {
     "data": {
      "text/latex": [
       "$\\hat{a} , \\widehat{bbb}$"
      ],
      "text/plain": [
       "<IPython.core.display.Latex object>"
      ]
     },
     "execution_count": 18,
     "metadata": {},
     "output_type": "execute_result"
    }
   ],
   "source": [
    "a=\"$\\hat{a} , \\widehat{bbb}$\"\n",
    "Latex(a)"
   ]
  },
  {
   "cell_type": "code",
   "execution_count": 19,
   "metadata": {},
   "outputs": [
    {
     "data": {
      "text/latex": [
       "$ \boxed{a}$"
      ],
      "text/plain": [
       "<IPython.core.display.Latex object>"
      ]
     },
     "execution_count": 19,
     "metadata": {},
     "output_type": "execute_result"
    }
   ],
   "source": [
    "a=\"$ \\boxed{a}$\"\n",
    "Latex(a)"
   ]
  },
  {
   "cell_type": "code",
   "execution_count": 20,
   "metadata": {},
   "outputs": [
    {
     "data": {
      "text/latex": [
       "The \\emph{characteristic polynomial} $\\chi(\\lambda)$ of the\n",
       "$3 \\times 3$~matrix\n",
       "\\[ \\left( \\begin{array}{ccc}\n",
       "a & b & c \\\\\n",
       "d & e & f \\\\\n",
       "g & h & i \\end{array} \\right)\\]\n",
       "is given by the formula\n",
       "\\[ \\chi(\\lambda) = \\left| \\begin{array}{ccc}\n",
       "\\lambda - a & -b & -c \\\\\n",
       "-d & \\lambda - e & -f \\\\\n",
       "-g & -h & \\lambda - i \\end{array} \\right|.\\]"
      ],
      "text/plain": [
       "<IPython.core.display.Latex object>"
      ]
     },
     "execution_count": 20,
     "metadata": {},
     "output_type": "execute_result"
    }
   ],
   "source": [
    "# 矩阵\n",
    "# c表示向中对齐，l表示向左对齐，r表示向右对齐\n",
    "Latex(r\"\"\"The \\emph{characteristic polynomial} $\\chi(\\lambda)$ of the\n",
    "$3 \\times 3$~matrix\n",
    "\\[ \\left( \\begin{array}{ccc}\n",
    "a & b & c \\\\\n",
    "d & e & f \\\\\n",
    "g & h & i \\end{array} \\right)\\]\n",
    "is given by the formula\n",
    "\\[ \\chi(\\lambda) = \\left| \\begin{array}{ccc}\n",
    "\\lambda - a & -b & -c \\\\\n",
    "-d & \\lambda - e & -f \\\\\n",
    "-g & -h & \\lambda - i \\end{array} \\right|.\\]\"\"\")\n"
   ]
  },
  {
   "cell_type": "code",
   "execution_count": 24,
   "metadata": {},
   "outputs": [
    {
     "data": {
      "text/latex": [
       "\\begin{eqnarray}\n",
       "\\cos 2\\theta & = & \\cos^2 \\theta - \\sin^2 \\theta \\\\\n",
       "& = & 2 \\cos^2 \\theta - 1\n",
       "\\end{eqnarray}"
      ],
      "text/plain": [
       "<IPython.core.display.Latex object>"
      ]
     },
     "execution_count": 24,
     "metadata": {},
     "output_type": "execute_result"
    }
   ],
   "source": [
    "# 多行的数学公式\n",
    "# 其中&是对其点，表示在此对齐。\n",
    "# *使latex不自动显示序号，如果想让latex自动标上序号，则把*去掉\n",
    "Latex(r\"\"\"\\begin{eqnarray}\n",
    "\\cos 2\\theta & = & \\cos^2 \\theta - \\sin^2 \\theta \\\\\n",
    "& = & 2 \\cos^2 \\theta - 1\n",
    "\\end{eqnarray}\"\"\")\n"
   ]
  },
  {
   "cell_type": "code",
   "execution_count": null,
   "metadata": {},
   "outputs": [],
   "source": []
  }
 ],
 "metadata": {
  "kernelspec": {
   "display_name": "Python 3",
   "language": "python",
   "name": "python3"
  },
  "language_info": {
   "codemirror_mode": {
    "name": "ipython",
    "version": 3
   },
   "file_extension": ".py",
   "mimetype": "text/x-python",
   "name": "python",
   "nbconvert_exporter": "python",
   "pygments_lexer": "ipython3",
   "version": "3.8.2"
  }
 },
 "nbformat": 4,
 "nbformat_minor": 4
}
